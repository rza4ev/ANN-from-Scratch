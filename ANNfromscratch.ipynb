{
 "cells": [
  {
   "cell_type": "code",
   "execution_count": 64,
   "metadata": {},
   "outputs": [],
   "source": [
    "import pandas as pd\n",
    "import matplotlib.pyplot as plt\n",
    "import numpy as np\n",
    "data=pd.read_csv(r\"C:\\Users\\User\\Desktop\\Neural Network\\train.csv\\train.csv\")\n"
   ]
  },
  {
   "cell_type": "code",
   "execution_count": 65,
   "metadata": {},
   "outputs": [],
   "source": [
    "data = np.array(data)\n",
    "m, n = data.shape\n",
    "np.random.shuffle(data) # shuffle before splitting into dev and training sets\n",
    "\n",
    "data_dev = data[0:1000].T\n",
    "Y_dev = data_dev[0]\n",
    "X_dev = data_dev[1:n]\n",
    "X_dev = X_dev / 255.\n",
    "\n"
   ]
  },
  {
   "cell_type": "code",
   "execution_count": 66,
   "metadata": {},
   "outputs": [
    {
     "data": {
      "text/plain": [
       "(784, 1000)"
      ]
     },
     "execution_count": 66,
     "metadata": {},
     "output_type": "execute_result"
    }
   ],
   "source": [
    "X_dev.shape"
   ]
  },
  {
   "cell_type": "code",
   "execution_count": 67,
   "metadata": {},
   "outputs": [],
   "source": [
    "data_train = data[1000:m].T\n",
    "Y_train = data_train[0]\n",
    "X_train = data_train[1:n]\n",
    "X_train = X_train / 255.\n",
    "_,m_train = X_train.shape"
   ]
  },
  {
   "cell_type": "code",
   "execution_count": null,
   "metadata": {},
   "outputs": [
    {
     "name": "stdout",
     "output_type": "stream",
     "text": [
      "Iteration 0: Accuracy = 0.0883170731707317\n",
      "Iteration 10: Accuracy = 0.20824390243902438\n",
      "Iteration 20: Accuracy = 0.2832195121951219\n",
      "Iteration 30: Accuracy = 0.34219512195121954\n",
      "Iteration 40: Accuracy = 0.3699268292682927\n",
      "Iteration 50: Accuracy = 0.40070731707317075\n",
      "Iteration 60: Accuracy = 0.4140243902439024\n",
      "Iteration 70: Accuracy = 0.42541463414634145\n",
      "Iteration 80: Accuracy = 0.45070731707317074\n",
      "Iteration 90: Accuracy = 0.4882682926829268\n",
      "Iteration 100: Accuracy = 0.5329756097560976\n",
      "Iteration 110: Accuracy = 0.5799756097560975\n",
      "Iteration 120: Accuracy = 0.6210487804878049\n",
      "Iteration 130: Accuracy = 0.6457804878048781\n",
      "Iteration 140: Accuracy = 0.6717804878048781\n",
      "Iteration 150: Accuracy = 0.7073658536585365\n",
      "Iteration 160: Accuracy = 0.7476341463414634\n",
      "Iteration 170: Accuracy = 0.7889512195121952\n",
      "Iteration 180: Accuracy = 0.8240975609756097\n",
      "Iteration 190: Accuracy = 0.842170731707317\n",
      "Iteration 200: Accuracy = 0.8516585365853658\n",
      "Iteration 210: Accuracy = 0.8581707317073171\n",
      "Iteration 220: Accuracy = 0.862780487804878\n",
      "Iteration 230: Accuracy = 0.8684634146341463\n",
      "Iteration 240: Accuracy = 0.8730731707317073\n",
      "Iteration 250: Accuracy = 0.8760731707317073\n",
      "Iteration 260: Accuracy = 0.8788048780487805\n",
      "Iteration 270: Accuracy = 0.881609756097561\n",
      "Iteration 280: Accuracy = 0.8849756097560976\n",
      "Iteration 290: Accuracy = 0.8875365853658537\n",
      "Iteration 300: Accuracy = 0.8897073170731707\n",
      "Iteration 310: Accuracy = 0.892\n",
      "Iteration 320: Accuracy = 0.8939024390243903\n",
      "Iteration 330: Accuracy = 0.8960243902439025\n",
      "Iteration 340: Accuracy = 0.8979512195121951\n",
      "Iteration 350: Accuracy = 0.8995853658536586\n",
      "Iteration 360: Accuracy = 0.9014390243902439\n",
      "Iteration 370: Accuracy = 0.9027560975609756\n",
      "Iteration 380: Accuracy = 0.9040243902439025\n",
      "Iteration 390: Accuracy = 0.9052682926829269\n",
      "Iteration 400: Accuracy = 0.9065853658536586\n",
      "Iteration 410: Accuracy = 0.908\n",
      "Iteration 420: Accuracy = 0.9092439024390244\n",
      "Iteration 430: Accuracy = 0.910219512195122\n",
      "Iteration 440: Accuracy = 0.9112926829268293\n",
      "Iteration 450: Accuracy = 0.9126341463414634\n",
      "Iteration 460: Accuracy = 0.9135365853658537\n",
      "Iteration 470: Accuracy = 0.9142682926829269\n",
      "Iteration 480: Accuracy = 0.9152682926829269\n",
      "Iteration 490: Accuracy = 0.9160487804878049\n"
     ]
    }
   ],
   "source": [
    "import numpy as np\n",
    "\n",
    "def init_params():\n",
    "    # Xavier Initialization\n",
    "    W1 = np.random.randn(10, 784) * np.sqrt(2 / 784)\n",
    "    b1 = np.zeros((10, 1))\n",
    "    W2 = np.random.randn(10, 10) * np.sqrt(2 / 10)\n",
    "    b2 = np.zeros((10, 1))\n",
    "    W3 = np.random.randn(10, 10) * np.sqrt(2 / 10)\n",
    "    b3 = np.zeros((10, 1))\n",
    "    return W1, b1, W2, b2, W3, b3\n",
    "\n",
    "def ReLu(Z):\n",
    "    return np.maximum(0, Z)\n",
    "\n",
    "def softmax(Z):\n",
    "    exp_Z = np.exp(Z - np.max(Z, axis=0, keepdims=True))\n",
    "    return exp_Z / np.sum(exp_Z, axis=0, keepdims=True)\n",
    "\n",
    "def forward_prop(W1, b1, W2, b2, W3, b3, X):\n",
    "    Z1 = W1.dot(X) + b1\n",
    "    A1 = ReLu(Z1)\n",
    "    Z2 = W2.dot(A1) + b2\n",
    "    A2 = ReLu(Z2)\n",
    "    Z3 = W3.dot(A2) + b3\n",
    "    A3 = softmax(Z3)\n",
    "    return Z1, A1, Z2, A2, Z3, A3\n",
    "\n",
    "def ReLU_deriv(Z):\n",
    "    return Z > 0\n",
    "\n",
    "def one_hot(Y, num_classes=10):\n",
    "    one_hot_Y = np.zeros((num_classes, Y.size))\n",
    "    one_hot_Y[Y, np.arange(Y.size)] = 1\n",
    "    return one_hot_Y\n",
    "\n",
    "\n",
    "def adam_optimizer(params, grads, v, s, t, beta1=0.9, beta2=0.999, epsilon=1e-8, alpha=0.001):\n",
    "    \n",
    "    if t == 1:  #\n",
    "        for key in params:\n",
    "            v[key] = np.zeros_like(params[key])\n",
    "            s[key] = np.zeros_like(params[key])\n",
    "\n",
    "    for key in params:\n",
    "        \n",
    "        v[key] = beta1 * v[key] + (1 - beta1) * grads[\"d\" + key]  # Change grads[key] to grads[\"d\" + key]\n",
    "        s[key] = beta2 * s[key] + (1 - beta2) * (grads[\"d\" + key] ** 2)\n",
    "\n",
    "        \n",
    "        v_corrected = v[key] / (1 - beta1 ** t)\n",
    "        s_corrected = s[key] / (1 - beta2 ** t)\n",
    "\n",
    "       \n",
    "        params[key] -= alpha * v_corrected / (np.sqrt(s_corrected) + epsilon)\n",
    "    \n",
    "    return params, v, s\n",
    "\n",
    "\n",
    "def backward_prop(Z1, A1, Z2, A2, Z3, A3, W1, W2, W3, X, Y):\n",
    "    m = X.shape[1]\n",
    "    one_hot_Y = one_hot(Y)\n",
    "\n",
    "    dZ3 = A3 - one_hot_Y\n",
    "    dW3 = 1 / m * dZ3.dot(A2.T)\n",
    "    db3 = 1 / m * np.sum(dZ3, axis=1, keepdims=True)\n",
    "\n",
    "    dZ2 = W3.T.dot(dZ3) * ReLU_deriv(A2)\n",
    "    dW2 = 1 / m * dZ2.dot(A1.T)\n",
    "    db2 = 1 / m * np.sum(dZ2, axis=1, keepdims=True)\n",
    "\n",
    "    dZ1 = W2.T.dot(dZ2) * ReLU_deriv(A1)\n",
    "    dW1 = 1 / m * dZ1.dot(X.T)\n",
    "    db1 = 1 / m * np.sum(dZ1, axis=1, keepdims=True)\n",
    "\n",
    "    grads = {\"dW1\": dW1, \"db1\": db1, \"dW2\": dW2, \"db2\": db2, \"dW3\": dW3, \"db3\": db3}\n",
    "    return grads\n",
    "\n",
    "def get_predictions(A3):\n",
    "    return np.argmax(A3, axis=0)\n",
    "\n",
    "def get_accuracy(predictions, Y):\n",
    "    return np.mean(predictions == Y)\n",
    "\n",
    "def gradient_descent(X, Y, alpha, iterations):\n",
    "    W1, b1, W2, b2, W3, b3 = init_params()\n",
    "    \n",
    "    \n",
    "    v = {\n",
    "        \"W1\": np.zeros_like(W1), \"b1\": np.zeros_like(b1), \n",
    "        \"W2\": np.zeros_like(W2), \"b2\": np.zeros_like(b2), \n",
    "        \"W3\": np.zeros_like(W3), \"b3\": np.zeros_like(b3)\n",
    "    }\n",
    "    s = {\n",
    "        \"W1\": np.zeros_like(W1), \"b1\": np.zeros_like(b1), \n",
    "        \"W2\": np.zeros_like(W2), \"b2\": np.zeros_like(b2), \n",
    "        \"W3\": np.zeros_like(W3), \"b3\": np.zeros_like(b3)\n",
    "    }\n",
    "    t = 0  \n",
    "    \n",
    "    for i in range(iterations):\n",
    "        Z1, A1, Z2, A2, Z3, A3 = forward_prop(W1, b1, W2, b2, W3, b3, X)\n",
    "        grads = backward_prop(Z1, A1, Z2, A2, Z3, A3, W1, W2, W3, X, Y)\n",
    "        \n",
    "        t += 1  # Update time step\n",
    "        \n",
    "        \n",
    "        params = {\"W1\": W1, \"b1\": b1, \"W2\": W2, \"b2\": b2, \"W3\": W3, \"b3\": b3}\n",
    "        params, v, s = adam_optimizer(params, grads, v, s, t, alpha=alpha)\n",
    "        \n",
    "       \n",
    "        W1, b1, W2, b2, W3, b3 = params[\"W1\"], params[\"b1\"], params[\"W2\"], params[\"b2\"], params[\"W3\"], params[\"b3\"]\n",
    "        \n",
    "        if i % 10 == 0:\n",
    "            predictions = get_predictions(A3)\n",
    "            print(f\"Iteration {i}: Accuracy = {get_accuracy(predictions, Y)}\")\n",
    "    \n",
    "    return W1, b1, W2, b2, W3, b3\n",
    "\n",
    "W1, b1, W2, b2, W3, b3 = gradient_descent(X_train, Y_train, alpha=0.001, iterations=500)\n",
    "\n",
    "\n"
   ]
  },
  {
   "cell_type": "code",
   "execution_count": 71,
   "metadata": {},
   "outputs": [],
   "source": [
    "def make_predictions(X, W1, b1, W2, b2,W3,b3):\n",
    "    _,_,_, _, _, A3 = forward_prop(W1, b1, W2, b2,W3,b3, X)\n",
    "    predictions = get_predictions(A3)\n",
    "    return predictions\n",
    "\n",
    "def test_prediction(index, W1, b1, W2, b2,W3,b3):\n",
    "    current_image = X_train[:, index, None]\n",
    "    prediction = make_predictions(X_train[:, index, None], W1, b1, W2, b2,W3,b3)\n",
    "    label = Y_train[index]\n",
    "    print(\"Prediction: \", prediction)\n",
    "    print(\"Label: \", label)\n",
    "    \n",
    "    current_image = current_image.reshape((28, 28)) * 255\n",
    "    plt.gray()\n",
    "    plt.imshow(current_image, interpolation='nearest')\n",
    "    plt.show()"
   ]
  },
  {
   "cell_type": "code",
   "execution_count": 72,
   "metadata": {},
   "outputs": [
    {
     "name": "stdout",
     "output_type": "stream",
     "text": [
      "Prediction:  [2]\n",
      "Label:  2\n"
     ]
    },
    {
     "data": {
      "image/png": "[encoded data removed]",
      "text/plain": [
       "<Figure size 640x480 with 1 Axes>"
      ]
     },
     "metadata": {},
     "output_type": "display_data"
    },
    {
     "name": "stdout",
     "output_type": "stream",
     "text": [
      "Prediction:  [0]\n",
      "Label:  0\n"
     ]
    },
    {
     "data": {
      "image/png": "[encoded data removed]",
      "text/plain": [
       "<Figure size 640x480 with 1 Axes>"
      ]
     },
     "metadata": {},
     "output_type": "display_data"
    },
    {
     "name": "stdout",
     "output_type": "stream",
     "text": [
      "Prediction:  [9]\n",
      "Label:  9\n"
     ]
    },
    {
     "data": {
      "image/png": "[encoded data removed]",
      "text/plain": [
       "<Figure size 640x480 with 1 Axes>"
      ]
     },
     "metadata": {},
     "output_type": "display_data"
    },
    {
     "name": "stdout",
     "output_type": "stream",
     "text": [
      "Prediction:  [3]\n",
      "Label:  3\n"
     ]
    },
    {
     "data": {
      "image/png": "[encoded data removed]",
      "text/plain": [
       "<Figure size 640x480 with 1 Axes>"
      ]
     },
     "metadata": {},
     "output_type": "display_data"
    }
   ],
   "source": [
    "test_prediction(0, W1, b1, W2, b2,W3,b3)\n",
    "test_prediction(1, W1, b1, W2, b2,W3,b3)\n",
    "test_prediction(2, W1, b1, W2, b2,W3,b3)\n",
    "test_prediction(3, W1, b1, W2, b2,W3,b3)"
   ]
  },
  {
   "cell_type": "code",
   "execution_count": 73,
   "metadata": {},
   "outputs": [
    {
     "data": {
      "text/plain": [
       "0.922"
      ]
     },
     "execution_count": 73,
     "metadata": {},
     "output_type": "execute_result"
    }
   ],
   "source": [
    "predictions__ = make_predictions(X_dev, W1, b1, W2, b2,W3,b3)\n",
    "get_accuracy(predictions__, Y_dev)"
   ]
  }
 ],
 "metadata": {
  "kernelspec": {
   "display_name": "Python 3",
   "language": "python",
   "name": "python3"
  },
  "language_info": {
   "codemirror_mode": {
    "name": "ipython",
    "version": 3
   },
   "file_extension": ".py",
   "mimetype": "text/x-python",
   "name": "python",
   "nbconvert_exporter": "python",
   "pygments_lexer": "ipython3",
   "version": "3.12.6"
  }
 },
 "nbformat": 4,
 "nbformat_minor": 2
}
